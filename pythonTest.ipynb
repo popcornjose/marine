# リスト　５ー１ー(15)

# 面の表示ーーーーーーーーーーー

def show_plane(ax,w):
    px0 = np.linspace(X0_min, X0_max, 5)
    px1 = np.linspace(X1_min, X1_max, 5)
    px0, px1 = np.meshgrid(px0, px1)
    y = w[0]*px0 + w[1] * px1 + w[2]
    ax.plot_surface(px0, px1, y, rstride=1, cstride=1, alpha=0.3,
                   color='blue', edgecolor='black')
    
# 面のMSEーーーーーーーーーーーーー

def mse_plane(x0, x1, t, w):
    y = w[0] * x0 + w[1] * x1 + w[2]       # (A)
    mse = np.mean((y-t)**2)
    return mse
# メイン　ーーーーーーーーーーーー
plt.figure(figsize=(6, 5))
ax = plt.subplot(1,1,1, projection='3d')
W = [1.5, 1, 90]
show_plane(ax, W)
show_data2(ax, X0, X1, T)
mse = mse_plane(X0, X1, T, W)
print("SD={0:.3f}cm".format(np.sqrt(mse)))
plt.show()
